{
 "cells": [
  {
   "cell_type": "code",
   "execution_count": 29,
   "metadata": {},
   "outputs": [
    {
     "name": "stdout",
     "output_type": "stream",
     "text": [
      "Enter Number4\n",
      "t= 1 x r= 1  =  rxt= 1\n",
      "t= 2 x r= 1  =  rxt= 2\n",
      "t= 3 x r= 1  =  rxt= 3\n",
      "t= 4 x r= 1  =  rxt= 4\n",
      "t= 2 x r= 2  =  rxt= 4\n",
      "t= 3 x r= 2  =  rxt= 6\n",
      "t= 4 x r= 2  =  rxt= 8\n",
      "t= 3 x r= 3  =  rxt= 9\n",
      "t= 4 x r= 3  =  rxt= 12\n",
      "t= 4 x r= 4  =  rxt= 16\n",
      "\n"
     ]
    }
   ],
   "source": [
    "user = int(input(\"Enter Number\"))\n",
    "for r in range(1,11):\n",
    "    for t in range(r,user+1):\n",
    "        print(\"t=\",t,\"x\",\"r=\",r,\" = \",\"rxt=\",r*t)\n",
    "#    print(f'{t}{r}={r*t}',end=\\t')\n",
    "print()"
   ]
  },
  {
   "cell_type": "code",
   "execution_count": 43,
   "metadata": {},
   "outputs": [
    {
     "name": "stdout",
     "output_type": "stream",
     "text": [
      "Enter the number to print the tables for:5\n",
      "5 x 1  =  5       \t 6 x 1  =  6       \t 7 x 1  =  7\n",
      "5 x 2  =  10       \t 6 x 2  =  12       \t 7 x 2  =  14\n",
      "5 x 3  =  15       \t 6 x 3  =  18       \t 7 x 3  =  21\n",
      "5 x 4  =  20       \t 6 x 4  =  24       \t 7 x 4  =  28\n",
      "5 x 5  =  25       \t 6 x 5  =  30       \t 7 x 5  =  35\n",
      "5 x 6  =  30       \t 6 x 6  =  36       \t 7 x 6  =  42\n",
      "5 x 7  =  35       \t 6 x 7  =  42       \t 7 x 7  =  49\n",
      "5 x 8  =  40       \t 6 x 8  =  48       \t 7 x 8  =  56\n",
      "5 x 9  =  45       \t 6 x 9  =  54       \t 7 x 9  =  63\n",
      "5 x 10  =  50       \t 6 x 10  =  60       \t 7 x 10  =  70\n"
     ]
    }
   ],
   "source": [
    "n=int(input(\"Enter the number to print the tables for:\"))\n",
    "for i in range(1,11):\n",
    "    print(n,'x',i,' = ',n*i,\"     \",'\\t',n+1,\"x\",i,\" = \",(n+1)*i,\"     \",'\\t',n+2,\"x\",i,\" = \",(n+2)*i)"
   ]
  },
  {
   "cell_type": "code",
   "execution_count": 23,
   "metadata": {},
   "outputs": [
    {
     "name": "stdout",
     "output_type": "stream",
     "text": [
      "Enter Number4\n",
      "2 x 1 = 1 \n",
      "\n",
      "2 x 2 = 2 \n",
      "\n",
      "2 x 3 = 3 \n",
      "\n",
      "2 x 4 = 4 \n",
      "\n",
      "\n",
      "3 x 1 = 2 \n",
      "\n",
      "3 x 2 = 4 \n",
      "\n",
      "3 x 3 = 6 \n",
      "\n",
      "3 x 4 = 8 \n",
      "\n",
      "\n",
      "4 x 1 = 3 \n",
      "\n",
      "4 x 2 = 6 \n",
      "\n",
      "4 x 3 = 9 \n",
      "\n",
      "4 x 4 = 12 \n",
      "\n",
      "\n",
      "\n",
      "\n",
      "\n",
      "\n",
      "\n",
      "\n",
      "\n",
      "\n",
      "\n",
      "\n",
      "\n",
      "\n",
      "\n",
      "\n"
     ]
    }
   ],
   "source": [
    "user = int(input(\"Enter Number\"))\n",
    "for r in range(1,11):\n",
    "    if r >= 4 :\n",
    "        print()\n",
    "    else:\n",
    "#    print('user = ',user,'r=',r)\n",
    "        for t in range(1,user+1):\n",
    "            print(r+1,\"x\",t,\"=\",t*r,'\\n')\n",
    "    print()"
   ]
  },
  {
   "cell_type": "code",
   "execution_count": 30,
   "metadata": {},
   "outputs": [
    {
     "name": "stdout",
     "output_type": "stream",
     "text": [
      "The first sentence. The second sentence. The last sentence.\n"
     ]
    }
   ],
   "source": [
    "print('The first sentence', end='. ')\n",
    "print('The second sentence', end='. ')\n",
    "print('The last sentence.')"
   ]
  },
  {
   "cell_type": "code",
   "execution_count": 32,
   "metadata": {},
   "outputs": [
    {
     "name": "stdout",
     "output_type": "stream",
     "text": [
      "Enter Number   4\n",
      "2 x 1 = 1\n",
      "2 x 2 = 2\n",
      "2 x 3 = 3\n",
      "2 x 4 = 4\n",
      "\n",
      "3 x 1 = 2\n",
      "3 x 2 = 4\n",
      "3 x 3 = 6\n",
      "3 x 4 = 8\n",
      "\n",
      "4 x 1 = 3\n",
      "4 x 2 = 6\n",
      "4 x 3 = 9\n",
      "4 x 4 = 12\n",
      "\n",
      "\n",
      "\n",
      "\n",
      "\n",
      "\n",
      "\n",
      "\n",
      "\n",
      "\n",
      "\n",
      "\n",
      "\n",
      "\n",
      "\n"
     ]
    }
   ],
   "source": [
    "user = int(input(\"Enter Number   \"))\n",
    "for r in range(1,11):\n",
    "    if r >= 4 :\n",
    "        print()\n",
    "    else:\n",
    "#    print('user = ',user,'r=',r)\n",
    "        for t in range(1,user+1):\n",
    "            print(r+1,\"x\",t,\"=\",t*r)\n",
    "    print()"
   ]
  },
  {
   "cell_type": "code",
   "execution_count": 35,
   "metadata": {},
   "outputs": [
    {
     "name": "stdout",
     "output_type": "stream",
     "text": [
      "Help on built-in function print in module builtins:\n",
      "\n",
      "print(...)\n",
      "    print(value, ..., sep=' ', end='\\n', file=sys.stdout, flush=False)\n",
      "    \n",
      "    Prints the values to a stream, or to sys.stdout by default.\n",
      "    Optional keyword arguments:\n",
      "    file:  a file-like object (stream); defaults to the current sys.stdout.\n",
      "    sep:   string inserted between values, default a space.\n",
      "    end:   string appended after the last value, default a newline.\n",
      "    flush: whether to forcibly flush the stream.\n",
      "\n"
     ]
    }
   ],
   "source": [
    "help(print)"
   ]
  },
  {
   "cell_type": "code",
   "execution_count": 42,
   "metadata": {},
   "outputs": [
    {
     "name": "stdout",
     "output_type": "stream",
     "text": [
      "Enter Number   4\n",
      "2 \tx \t 1 \t  =  2 \t\n",
      "2 \tx \t 2 \t  =  4 \t\n",
      "2 \tx \t 3 \t  =  6 \t\n",
      "2 \tx \t 4 \t  =  8 \t\n",
      "\n",
      "3 \tx \t 1 \t  =  3 \t\n",
      "3 \tx \t 2 \t  =  6 \t\n",
      "3 \tx \t 3 \t  =  9 \t\n",
      "3 \tx \t 4 \t  =  12 \t\n",
      "\n",
      "4 \tx \t 1 \t  =  4 \t\n",
      "4 \tx \t 2 \t  =  8 \t\n",
      "4 \tx \t 3 \t  =  12 \t\n",
      "4 \tx \t 4 \t  =  16 \t\n",
      "\n",
      "\n",
      "\n",
      "\n",
      "\n",
      "\n",
      "\n",
      "\n",
      "\n",
      "\n",
      "\n",
      "\n",
      "\n",
      "\n",
      "\n"
     ]
    }
   ],
   "source": [
    "user = int(input(\"Enter Number   \"))\n",
    "for r in range(1,11):\n",
    "    if r >= 4 :\n",
    "        print()\n",
    "    else:\n",
    "#    print('user = ',user,'r=',r)\n",
    "        for t in range(1,user+1):\n",
    "            print(r+1,'\\t'\"x\",'\\t',t,'\\t',\" = \",t*(r+1),'\\t')\n",
    "    print()"
   ]
  },
  {
   "cell_type": "code",
   "execution_count": null,
   "metadata": {},
   "outputs": [],
   "source": []
  },
  {
   "cell_type": "code",
   "execution_count": 42,
   "metadata": {},
   "outputs": [
    {
     "name": "stdout",
     "output_type": "stream",
     "text": [
      "Enter Number   4\n",
      "2 \tx \t 1 \t  =  2 \t\n",
      "2 \tx \t 2 \t  =  4 \t\n",
      "2 \tx \t 3 \t  =  6 \t\n",
      "2 \tx \t 4 \t  =  8 \t\n",
      "\n",
      "3 \tx \t 1 \t  =  3 \t\n",
      "3 \tx \t 2 \t  =  6 \t\n",
      "3 \tx \t 3 \t  =  9 \t\n",
      "3 \tx \t 4 \t  =  12 \t\n",
      "\n",
      "4 \tx \t 1 \t  =  4 \t\n",
      "4 \tx \t 2 \t  =  8 \t\n",
      "4 \tx \t 3 \t  =  12 \t\n",
      "4 \tx \t 4 \t  =  16 \t\n",
      "\n",
      "\n",
      "\n",
      "\n",
      "\n",
      "\n",
      "\n",
      "\n",
      "\n",
      "\n",
      "\n",
      "\n",
      "\n",
      "\n",
      "\n"
     ]
    }
   ],
   "source": [
    "user = int(input(\"Enter Number   \"))\n",
    "for r in range(1,11):\n",
    "    if r >= 4 :\n",
    "        print()\n",
    "    else:\n",
    "#    print('user = ',user,'r=',r)\n",
    "        for t in range(1,user+1):\n",
    "            print(r+1,'\\t'\"x\",'\\t',t,'\\t',\" = \",t*(r+1),'\\t')\n",
    "    print()"
   ]
  }
 ],
 "metadata": {
  "kernelspec": {
   "display_name": "Python 3",
   "language": "python",
   "name": "python3"
  },
  "language_info": {
   "codemirror_mode": {
    "name": "ipython",
    "version": 3
   },
   "file_extension": ".py",
   "mimetype": "text/x-python",
   "name": "python",
   "nbconvert_exporter": "python",
   "pygments_lexer": "ipython3",
   "version": "3.7.4"
  }
 },
 "nbformat": 4,
 "nbformat_minor": 2
}
