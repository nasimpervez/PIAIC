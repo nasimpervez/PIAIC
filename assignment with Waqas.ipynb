{
 "cells": [
  {
   "cell_type": "code",
   "execution_count": 1,
   "metadata": {},
   "outputs": [],
   "source": [
    "import string"
   ]
  },
  {
   "cell_type": "code",
   "execution_count": 7,
   "metadata": {},
   "outputs": [
    {
     "name": "stdout",
     "output_type": "stream",
     "text": [
      "520\n",
      "480\n",
      "10000\n",
      "25.0\n",
      "25\n",
      "0\n",
      "112589990684262400000000000000000000000000000000000000000000000000\n"
     ]
    }
   ],
   "source": [
    "print(500 + 20)\n",
    "print(500 - 20)\n",
    "print(500 * 20)\n",
    "print(500 / 20)\n",
    "print(500 // 20)\n",
    "print(500 % 20)\n",
    "print(20 ** 50)"
   ]
  },
  {
   "cell_type": "code",
   "execution_count": 6,
   "metadata": {},
   "outputs": [
    {
     "name": "stdout",
     "output_type": "stream",
     "text": [
      "<class 'int'> \t\t 1\n",
      "<class 'int'> \t\t -1\n",
      "<class 'float'> \t 1.0\n",
      "<class 'float'> \t\t -1.0\n",
      "<class 'float'> \t 2000.0\n",
      "<class 'float'> \t\t\t -2000.0\n",
      "<class 'complex'> \t 3.14j\n",
      "<class 'complex'> \t (-0-3.14j)\n"
     ]
    }
   ],
   "source": [
    "# Create the number objects\n",
    "a = 1\n",
    "b = -1\n",
    "c = 1.0\n",
    "d = -1.0\n",
    "e = +2e3\n",
    "f = -2e3\n",
    "g = 3.14j\n",
    "h = -3.14j\n",
    "\n",
    "# Print the numbers and types (we also use a 'tab' character (\"\\t\") - just to align them)\n",
    "print(type(a), \"\\t\\t\", a)\n",
    "print(type(b), \"\\t\\t\", b)\n",
    "print(type(c), \"\\t\", c)\n",
    "print(type(d), \"\\t\\t\", d)\n",
    "print(type(e), \"\\t\", e)\n",
    "print(type(f), \"\\t\\t\\t\", f)\n",
    "print(type(g), \"\\t\", g)\n",
    "print(type(h), \"\\t\", h)"
   ]
  },
  {
   "cell_type": "code",
   "execution_count": 8,
   "metadata": {},
   "outputs": [
    {
     "name": "stdout",
     "output_type": "stream",
     "text": [
      "Low\n"
     ]
    }
   ],
   "source": [
    "a = 7\n",
    "print(\"Low\" if a < 10 else \"High\")\n"
   ]
  },
  {
   "cell_type": "code",
   "execution_count": 9,
   "metadata": {},
   "outputs": [
    {
     "name": "stdout",
     "output_type": "stream",
     "text": [
      "High\n"
     ]
    }
   ],
   "source": [
    "a = 7\n",
    "print(\"Low\" if a > 10 else \"High\")\n"
   ]
  },
  {
   "cell_type": "code",
   "execution_count": 2,
   "metadata": {},
   "outputs": [
    {
     "data": {
      "text/plain": [
       "'continental'"
      ]
     },
     "execution_count": 2,
     "metadata": {},
     "output_type": "execute_result"
    }
   ],
   "source": [
    "# use tab to list the functions of string and list. e.g. a.press tab\n",
    "sd = \"continental\"\n",
    "sd"
   ]
  },
  {
   "cell_type": "code",
   "execution_count": null,
   "metadata": {},
   "outputs": [],
   "source": [
    "\n",
    "a=\"nasim\"\n",
    "a.capitalize()"
   ]
  },
  {
   "cell_type": "code",
   "execution_count": null,
   "metadata": {},
   "outputs": [],
   "source": [
    "print(a.capitalize())"
   ]
  },
  {
   "cell_type": "code",
   "execution_count": null,
   "metadata": {},
   "outputs": [],
   "source": [
    "print(a.casefold())"
   ]
  },
  {
   "cell_type": "code",
   "execution_count": null,
   "metadata": {},
   "outputs": [],
   "source": [
    "a = [1,3,5,7,9]\n",
    "a.append\n"
   ]
  },
  {
   "cell_type": "code",
   "execution_count": null,
   "metadata": {},
   "outputs": [],
   "source": [
    "print(a.strip())"
   ]
  },
  {
   "cell_type": "code",
   "execution_count": null,
   "metadata": {},
   "outputs": [],
   "source": [
    "print(a.center(0))"
   ]
  },
  {
   "cell_type": "code",
   "execution_count": null,
   "metadata": {},
   "outputs": [],
   "source": [
    "print(a.encode)"
   ]
  },
  {
   "cell_type": "code",
   "execution_count": null,
   "metadata": {},
   "outputs": [],
   "source": [
    "print(a)"
   ]
  },
  {
   "cell_type": "code",
   "execution_count": 3,
   "metadata": {},
   "outputs": [
    {
     "name": "stdout",
     "output_type": "stream",
     "text": [
      "15625\n"
     ]
    }
   ],
   "source": [
    "a=5\n",
    "b=6\n",
    "print(a**b)\n"
   ]
  },
  {
   "cell_type": "code",
   "execution_count": 7,
   "metadata": {},
   "outputs": [],
   "source": [
    "import string"
   ]
  },
  {
   "cell_type": "code",
   "execution_count": 8,
   "metadata": {},
   "outputs": [
    {
     "name": "stdout",
     "output_type": "stream",
     "text": [
      "<built-in method conjugate of int object at 0x00007FFB655DA210>\n"
     ]
    }
   ],
   "source": [
    "a = 5\n",
    "print(a.conjugate)"
   ]
  },
  {
   "cell_type": "code",
   "execution_count": null,
   "metadata": {},
   "outputs": [],
   "source": [
    "import string\n",
    "a = \"nasim\"\n",
    "b=str(a)\n",
    "print(a.capitalize())"
   ]
  },
  {
   "cell_type": "code",
   "execution_count": 13,
   "metadata": {},
   "outputs": [
    {
     "name": "stdout",
     "output_type": "stream",
     "text": [
      "Area of Rectangle: 19200 sq units\n"
     ]
    }
   ],
   "source": [
    "# Find out the cost of a rectangular field with breadth(b=120), length(l=160). It costs x (2000) rupees per 1 square unit\n",
    "\n",
    "class Rectangle:\n",
    "   def __init__(aaa, length, breadth, unit_cost=0):\n",
    "       aaa.length = length\n",
    "       aaa.breadth = breadth\n",
    "       aaa.unit_cost = unit_cost\n",
    "   def get_area(aaa):\n",
    "       return aaa.length * aaa.breadth\n",
    "   def calculate_cost(aaa):\n",
    "       area = self.get_aaa()\n",
    "       return area * aaa.unit_cost\n",
    "# breadth = 120 units, length = 160 units, 1 sq unit cost = Rs 2000\n",
    "r = Rectangle(160, 120, 2000)\n",
    "print(\"Area of Rectangle: %s sq units\" % (r.get_area()))"
   ]
  },
  {
   "cell_type": "code",
   "execution_count": null,
   "metadata": {},
   "outputs": [],
   "source": []
  },
  {
   "cell_type": "code",
   "execution_count": 16,
   "metadata": {},
   "outputs": [
    {
     "ename": "IndentationError",
     "evalue": "unexpected indent (<ipython-input-16-92f8b529c2ee>, line 4)",
     "output_type": "error",
     "traceback": [
      "\u001b[1;36m  File \u001b[1;32m\"<ipython-input-16-92f8b529c2ee>\"\u001b[1;36m, line \u001b[1;32m4\u001b[0m\n\u001b[1;33m    a = int(input(length))\u001b[0m\n\u001b[1;37m    ^\u001b[0m\n\u001b[1;31mIndentationError\u001b[0m\u001b[1;31m:\u001b[0m unexpected indent\n"
     ]
    }
   ],
   "source": [
    "# Find out the cost of a rectangular field with breadth(b=120), length(l=160). It costs x (2000) rupees per 1 square unit\n",
    "\n",
    "# class Rectangle:\n",
    "    a = int(input(length))\n",
    "    b = int(input(breadth))\n",
    "    c = int(input(unit_cost))\n",
    "    print(\"Length =\",a,\"Breadth =\",b,\"Unit cost/ft^2 =\",c)\n",
    "    Area = a * b\n",
    "    print(\"Area of the Rectangle =\",Area)\n",
    "    Total_Cost = Area * c\n",
    "    print(Total_Cost, \"Rupees\")"
   ]
  },
  {
   "cell_type": "code",
   "execution_count": null,
   "metadata": {},
   "outputs": [],
   "source": []
  }
 ],
 "metadata": {
  "kernelspec": {
   "display_name": "Python 3",
   "language": "python",
   "name": "python3"
  },
  "language_info": {
   "codemirror_mode": {
    "name": "ipython",
    "version": 3
   },
   "file_extension": ".py",
   "mimetype": "text/x-python",
   "name": "python",
   "nbconvert_exporter": "python",
   "pygments_lexer": "ipython3",
   "version": "3.7.4"
  }
 },
 "nbformat": 4,
 "nbformat_minor": 2
}
